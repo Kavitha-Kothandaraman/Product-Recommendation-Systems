{
 "cells": [
  {
   "cell_type": "markdown",
   "metadata": {
    "colab_type": "text",
    "id": "PK_wOPOGkEbI"
   },
   "source": [
    "# Recommendation Systems\n",
    "\n",
    "**Objective:**\n",
    "\n",
    "Build a recommendation system to recommend products to\n",
    "customers based on the their previous ratings for other\n",
    "products.\n",
    "\n",
    "**Steps followed:**\n",
    "\n",
    "\n",
    "\n",
    "1.   Install the required package\n",
    "2.   Load the required libraries\n",
    "3.   Load the dataset and assign the column names\n",
    "4.   Analyze the dataset\n",
    "5.   Take subset of the dataset\n",
    "6.   Build Popularity based model\n",
    "7.   Build Collaborative filtering model\n",
    "8.   Tune the parameters\n",
    "9.   Compare and conclude the best model\n"
   ]
  },
  {
   "cell_type": "markdown",
   "metadata": {
    "colab_type": "text",
    "id": "HAchj82rFHif"
   },
   "source": [
    "**Install the requried package for Recommendation system**"
   ]
  },
  {
   "cell_type": "code",
   "execution_count": 1,
   "metadata": {
    "colab": {
     "base_uri": "https://localhost:8080/",
     "height": 252
    },
    "colab_type": "code",
    "id": "cYBCOR9adeIQ",
    "outputId": "901df10c-ca5f-4345-be06-21cd4a844441"
   },
   "outputs": [
    {
     "name": "stdout",
     "output_type": "stream",
     "text": [
      "Collecting scikit-surprise\n",
      "\u001b[?25l  Downloading https://files.pythonhosted.org/packages/f5/da/b5700d96495fb4f092be497f02492768a3d96a3f4fa2ae7dea46d4081cfa/scikit-surprise-1.1.0.tar.gz (6.4MB)\n",
      "\u001b[K     |████████████████████████████████| 6.5MB 99kB/s \n",
      "\u001b[?25hRequirement already satisfied: joblib>=0.11 in /usr/local/lib/python3.6/dist-packages (from scikit-surprise) (0.14.0)\n",
      "Requirement already satisfied: numpy>=1.11.2 in /usr/local/lib/python3.6/dist-packages (from scikit-surprise) (1.17.4)\n",
      "Requirement already satisfied: scipy>=1.0.0 in /usr/local/lib/python3.6/dist-packages (from scikit-surprise) (1.3.2)\n",
      "Requirement already satisfied: six>=1.10.0 in /usr/local/lib/python3.6/dist-packages (from scikit-surprise) (1.12.0)\n",
      "Building wheels for collected packages: scikit-surprise\n",
      "  Building wheel for scikit-surprise (setup.py) ... \u001b[?25l\u001b[?25hdone\n",
      "  Created wheel for scikit-surprise: filename=scikit_surprise-1.1.0-cp36-cp36m-linux_x86_64.whl size=1678230 sha256=76a6ffcf0ee9d672e71176976576d2d6e7a1e1c7abb4c3c9494fd9625fe6cd44\n",
      "  Stored in directory: /root/.cache/pip/wheels/cc/fa/8c/16c93fccce688ae1bde7d979ff102f7bee980d9cfeb8641bcf\n",
      "Successfully built scikit-surprise\n",
      "Installing collected packages: scikit-surprise\n",
      "Successfully installed scikit-surprise-1.1.0\n"
     ]
    }
   ],
   "source": [
    "!pip install scikit-surprise"
   ]
  },
  {
   "cell_type": "markdown",
   "metadata": {
    "colab_type": "text",
    "id": "uRRjOGBSFSqI"
   },
   "source": [
    "**Import all required libraries**"
   ]
  },
  {
   "cell_type": "code",
   "execution_count": 0,
   "metadata": {
    "colab": {},
    "colab_type": "code",
    "id": "hlsgwittUOir"
   },
   "outputs": [],
   "source": [
    "%matplotlib inline\n",
    "import numpy as np\n",
    "import pandas as pd\n",
    "from matplotlib import pyplot as plt\n",
    "import seaborn as sns\n",
    "import warnings\n",
    "warnings.filterwarnings('ignore')\n",
    "from sklearn import metrics\n",
    "from surprise import Reader\n",
    "from surprise import SVD\n",
    "from surprise import Dataset\n",
    "from surprise.model_selection import cross_validate\n",
    "from surprise.model_selection import train_test_split # # Import Surprise package's data splitting function\n",
    "from surprise import accuracy\n",
    "from surprise.model_selection import GridSearchCV\n",
    "from surprise import KNNBasic\n",
    "from surprise import KNNWithMeans"
   ]
  },
  {
   "cell_type": "markdown",
   "metadata": {
    "colab_type": "text",
    "id": "qjfx1C0GFZfw"
   },
   "source": [
    "**Mount the drive**"
   ]
  },
  {
   "cell_type": "code",
   "execution_count": 4,
   "metadata": {
    "colab": {
     "base_uri": "https://localhost:8080/",
     "height": 121
    },
    "colab_type": "code",
    "id": "biaqKS2qUCFk",
    "outputId": "6c0ddd51-d411-448e-fdbf-8069b57f46e8"
   },
   "outputs": [
    {
     "name": "stdout",
     "output_type": "stream",
     "text": [
      "Go to this URL in a browser: https://accounts.google.com/o/oauth2/auth?client_id=947318989803-6bn6qk8qdgf4n4g3pfee6491hc0brc4i.apps.googleusercontent.com&redirect_uri=urn%3aietf%3awg%3aoauth%3a2.0%3aoob&response_type=code&scope=email%20https%3a%2f%2fwww.googleapis.com%2fauth%2fdocs.test%20https%3a%2f%2fwww.googleapis.com%2fauth%2fdrive%20https%3a%2f%2fwww.googleapis.com%2fauth%2fdrive.photos.readonly%20https%3a%2f%2fwww.googleapis.com%2fauth%2fpeopleapi.readonly\n",
      "\n",
      "Enter your authorization code:\n",
      "··········\n",
      "Mounted at /content/drive\n"
     ]
    }
   ],
   "source": [
    "from google.colab import drive\n",
    "drive.mount('/content/drive')"
   ]
  },
  {
   "cell_type": "markdown",
   "metadata": {
    "colab_type": "text",
    "id": "_4CbOIT4FdG9"
   },
   "source": [
    "**Assign the column names and load the dataset**"
   ]
  },
  {
   "cell_type": "code",
   "execution_count": 5,
   "metadata": {
    "colab": {
     "base_uri": "https://localhost:8080/",
     "height": 935
    },
    "colab_type": "code",
    "id": "GxlUrVT0URg7",
    "outputId": "0538247b-9286-4575-dae4-364eac18a247"
   },
   "outputs": [
    {
     "data": {
      "text/html": [
       "<div>\n",
       "<style scoped>\n",
       "    .dataframe tbody tr th:only-of-type {\n",
       "        vertical-align: middle;\n",
       "    }\n",
       "\n",
       "    .dataframe tbody tr th {\n",
       "        vertical-align: top;\n",
       "    }\n",
       "\n",
       "    .dataframe thead th {\n",
       "        text-align: right;\n",
       "    }\n",
       "</style>\n",
       "<table border=\"1\" class=\"dataframe\">\n",
       "  <thead>\n",
       "    <tr style=\"text-align: right;\">\n",
       "      <th></th>\n",
       "      <th>userId</th>\n",
       "      <th>productId</th>\n",
       "      <th>Rating</th>\n",
       "      <th>timestamp</th>\n",
       "    </tr>\n",
       "  </thead>\n",
       "  <tbody>\n",
       "    <tr>\n",
       "      <th>0</th>\n",
       "      <td>AKM1MP6P0OYPR</td>\n",
       "      <td>0132793040</td>\n",
       "      <td>5.0</td>\n",
       "      <td>1365811200</td>\n",
       "    </tr>\n",
       "    <tr>\n",
       "      <th>1</th>\n",
       "      <td>A2CX7LUOHB2NDG</td>\n",
       "      <td>0321732944</td>\n",
       "      <td>5.0</td>\n",
       "      <td>1341100800</td>\n",
       "    </tr>\n",
       "    <tr>\n",
       "      <th>2</th>\n",
       "      <td>A2NWSAGRHCP8N5</td>\n",
       "      <td>0439886341</td>\n",
       "      <td>1.0</td>\n",
       "      <td>1367193600</td>\n",
       "    </tr>\n",
       "    <tr>\n",
       "      <th>3</th>\n",
       "      <td>A2WNBOD3WNDNKT</td>\n",
       "      <td>0439886341</td>\n",
       "      <td>3.0</td>\n",
       "      <td>1374451200</td>\n",
       "    </tr>\n",
       "    <tr>\n",
       "      <th>4</th>\n",
       "      <td>A1GI0U4ZRJA8WN</td>\n",
       "      <td>0439886341</td>\n",
       "      <td>1.0</td>\n",
       "      <td>1334707200</td>\n",
       "    </tr>\n",
       "    <tr>\n",
       "      <th>5</th>\n",
       "      <td>A1QGNMC6O1VW39</td>\n",
       "      <td>0511189877</td>\n",
       "      <td>5.0</td>\n",
       "      <td>1397433600</td>\n",
       "    </tr>\n",
       "    <tr>\n",
       "      <th>6</th>\n",
       "      <td>A3J3BRHTDRFJ2G</td>\n",
       "      <td>0511189877</td>\n",
       "      <td>2.0</td>\n",
       "      <td>1397433600</td>\n",
       "    </tr>\n",
       "    <tr>\n",
       "      <th>7</th>\n",
       "      <td>A2TY0BTJOTENPG</td>\n",
       "      <td>0511189877</td>\n",
       "      <td>5.0</td>\n",
       "      <td>1395878400</td>\n",
       "    </tr>\n",
       "    <tr>\n",
       "      <th>8</th>\n",
       "      <td>A34ATBPOK6HCHY</td>\n",
       "      <td>0511189877</td>\n",
       "      <td>5.0</td>\n",
       "      <td>1395532800</td>\n",
       "    </tr>\n",
       "    <tr>\n",
       "      <th>9</th>\n",
       "      <td>A89DO69P0XZ27</td>\n",
       "      <td>0511189877</td>\n",
       "      <td>5.0</td>\n",
       "      <td>1395446400</td>\n",
       "    </tr>\n",
       "    <tr>\n",
       "      <th>10</th>\n",
       "      <td>AZYNQZ94U6VDB</td>\n",
       "      <td>0511189877</td>\n",
       "      <td>5.0</td>\n",
       "      <td>1401321600</td>\n",
       "    </tr>\n",
       "    <tr>\n",
       "      <th>11</th>\n",
       "      <td>A1DA3W4GTFXP6O</td>\n",
       "      <td>0528881469</td>\n",
       "      <td>5.0</td>\n",
       "      <td>1405641600</td>\n",
       "    </tr>\n",
       "    <tr>\n",
       "      <th>12</th>\n",
       "      <td>A29LPQQDG7LD5J</td>\n",
       "      <td>0528881469</td>\n",
       "      <td>1.0</td>\n",
       "      <td>1352073600</td>\n",
       "    </tr>\n",
       "    <tr>\n",
       "      <th>13</th>\n",
       "      <td>AO94DHGC771SJ</td>\n",
       "      <td>0528881469</td>\n",
       "      <td>5.0</td>\n",
       "      <td>1370131200</td>\n",
       "    </tr>\n",
       "    <tr>\n",
       "      <th>14</th>\n",
       "      <td>AMO214LNFCEI4</td>\n",
       "      <td>0528881469</td>\n",
       "      <td>1.0</td>\n",
       "      <td>1290643200</td>\n",
       "    </tr>\n",
       "    <tr>\n",
       "      <th>15</th>\n",
       "      <td>A28B1G1MSJ6OO1</td>\n",
       "      <td>0528881469</td>\n",
       "      <td>4.0</td>\n",
       "      <td>1280016000</td>\n",
       "    </tr>\n",
       "    <tr>\n",
       "      <th>16</th>\n",
       "      <td>A3N7T0DY83Y4IG</td>\n",
       "      <td>0528881469</td>\n",
       "      <td>3.0</td>\n",
       "      <td>1283990400</td>\n",
       "    </tr>\n",
       "    <tr>\n",
       "      <th>17</th>\n",
       "      <td>A1H8PY3QHMQQA0</td>\n",
       "      <td>0528881469</td>\n",
       "      <td>2.0</td>\n",
       "      <td>1290556800</td>\n",
       "    </tr>\n",
       "    <tr>\n",
       "      <th>18</th>\n",
       "      <td>A2CPBQ5W4OGBX</td>\n",
       "      <td>0528881469</td>\n",
       "      <td>2.0</td>\n",
       "      <td>1277078400</td>\n",
       "    </tr>\n",
       "    <tr>\n",
       "      <th>19</th>\n",
       "      <td>A265MKAR2WEH3Y</td>\n",
       "      <td>0528881469</td>\n",
       "      <td>4.0</td>\n",
       "      <td>1294790400</td>\n",
       "    </tr>\n",
       "    <tr>\n",
       "      <th>20</th>\n",
       "      <td>A37K02NKUIT68K</td>\n",
       "      <td>0528881469</td>\n",
       "      <td>5.0</td>\n",
       "      <td>1293235200</td>\n",
       "    </tr>\n",
       "    <tr>\n",
       "      <th>21</th>\n",
       "      <td>A2AW1SSVUIYV9Y</td>\n",
       "      <td>0528881469</td>\n",
       "      <td>4.0</td>\n",
       "      <td>1289001600</td>\n",
       "    </tr>\n",
       "    <tr>\n",
       "      <th>22</th>\n",
       "      <td>A2AEHUKOV014BP</td>\n",
       "      <td>0528881469</td>\n",
       "      <td>5.0</td>\n",
       "      <td>1284249600</td>\n",
       "    </tr>\n",
       "    <tr>\n",
       "      <th>23</th>\n",
       "      <td>AMLFNXUIEMN4T</td>\n",
       "      <td>0528881469</td>\n",
       "      <td>1.0</td>\n",
       "      <td>1307836800</td>\n",
       "    </tr>\n",
       "    <tr>\n",
       "      <th>24</th>\n",
       "      <td>A2O8FIJR9EBU56</td>\n",
       "      <td>0528881469</td>\n",
       "      <td>4.0</td>\n",
       "      <td>1278547200</td>\n",
       "    </tr>\n",
       "    <tr>\n",
       "      <th>25</th>\n",
       "      <td>A3IQGFB959IR4P</td>\n",
       "      <td>0528881469</td>\n",
       "      <td>1.0</td>\n",
       "      <td>1327363200</td>\n",
       "    </tr>\n",
       "    <tr>\n",
       "      <th>26</th>\n",
       "      <td>AYTBGUX49LF3W</td>\n",
       "      <td>0528881469</td>\n",
       "      <td>4.0</td>\n",
       "      <td>1398470400</td>\n",
       "    </tr>\n",
       "    <tr>\n",
       "      <th>27</th>\n",
       "      <td>A24QFSUU00IZ05</td>\n",
       "      <td>0528881469</td>\n",
       "      <td>2.0</td>\n",
       "      <td>1293580800</td>\n",
       "    </tr>\n",
       "    <tr>\n",
       "      <th>28</th>\n",
       "      <td>A1NG5X8VYZWX0Q</td>\n",
       "      <td>0528881469</td>\n",
       "      <td>1.0</td>\n",
       "      <td>1286582400</td>\n",
       "    </tr>\n",
       "    <tr>\n",
       "      <th>29</th>\n",
       "      <td>A1E4WG8HRWWK4R</td>\n",
       "      <td>0528881469</td>\n",
       "      <td>5.0</td>\n",
       "      <td>1390867200</td>\n",
       "    </tr>\n",
       "  </tbody>\n",
       "</table>\n",
       "</div>"
      ],
      "text/plain": [
       "            userId   productId  Rating   timestamp\n",
       "0    AKM1MP6P0OYPR  0132793040     5.0  1365811200\n",
       "1   A2CX7LUOHB2NDG  0321732944     5.0  1341100800\n",
       "2   A2NWSAGRHCP8N5  0439886341     1.0  1367193600\n",
       "3   A2WNBOD3WNDNKT  0439886341     3.0  1374451200\n",
       "4   A1GI0U4ZRJA8WN  0439886341     1.0  1334707200\n",
       "5   A1QGNMC6O1VW39  0511189877     5.0  1397433600\n",
       "6   A3J3BRHTDRFJ2G  0511189877     2.0  1397433600\n",
       "7   A2TY0BTJOTENPG  0511189877     5.0  1395878400\n",
       "8   A34ATBPOK6HCHY  0511189877     5.0  1395532800\n",
       "9    A89DO69P0XZ27  0511189877     5.0  1395446400\n",
       "10   AZYNQZ94U6VDB  0511189877     5.0  1401321600\n",
       "11  A1DA3W4GTFXP6O  0528881469     5.0  1405641600\n",
       "12  A29LPQQDG7LD5J  0528881469     1.0  1352073600\n",
       "13   AO94DHGC771SJ  0528881469     5.0  1370131200\n",
       "14   AMO214LNFCEI4  0528881469     1.0  1290643200\n",
       "15  A28B1G1MSJ6OO1  0528881469     4.0  1280016000\n",
       "16  A3N7T0DY83Y4IG  0528881469     3.0  1283990400\n",
       "17  A1H8PY3QHMQQA0  0528881469     2.0  1290556800\n",
       "18   A2CPBQ5W4OGBX  0528881469     2.0  1277078400\n",
       "19  A265MKAR2WEH3Y  0528881469     4.0  1294790400\n",
       "20  A37K02NKUIT68K  0528881469     5.0  1293235200\n",
       "21  A2AW1SSVUIYV9Y  0528881469     4.0  1289001600\n",
       "22  A2AEHUKOV014BP  0528881469     5.0  1284249600\n",
       "23   AMLFNXUIEMN4T  0528881469     1.0  1307836800\n",
       "24  A2O8FIJR9EBU56  0528881469     4.0  1278547200\n",
       "25  A3IQGFB959IR4P  0528881469     1.0  1327363200\n",
       "26   AYTBGUX49LF3W  0528881469     4.0  1398470400\n",
       "27  A24QFSUU00IZ05  0528881469     2.0  1293580800\n",
       "28  A1NG5X8VYZWX0Q  0528881469     1.0  1286582400\n",
       "29  A1E4WG8HRWWK4R  0528881469     5.0  1390867200"
      ]
     },
     "execution_count": 5,
     "metadata": {
      "tags": []
     },
     "output_type": "execute_result"
    }
   ],
   "source": [
    "\n",
    "colnames = [\"userId\", \"productId\", \"Rating\", \"timestamp\"]\n",
    "df = pd.read_csv(\"/content/drive/My Drive/Colab Notebooks/ratings_Electronics.csv\", names= colnames)\n",
    "df.head(30)"
   ]
  },
  {
   "cell_type": "markdown",
   "metadata": {
    "colab_type": "text",
    "id": "CL4AiPSOFk97"
   },
   "source": [
    "**Analyse the given data**"
   ]
  },
  {
   "cell_type": "code",
   "execution_count": 6,
   "metadata": {
    "colab": {
     "base_uri": "https://localhost:8080/",
     "height": 935
    },
    "colab_type": "code",
    "id": "F6ZN-wT6VfQV",
    "outputId": "90f24d76-b528-4745-859e-f005ff1ea90c"
   },
   "outputs": [
    {
     "data": {
      "text/html": [
       "<div>\n",
       "<style scoped>\n",
       "    .dataframe tbody tr th:only-of-type {\n",
       "        vertical-align: middle;\n",
       "    }\n",
       "\n",
       "    .dataframe tbody tr th {\n",
       "        vertical-align: top;\n",
       "    }\n",
       "\n",
       "    .dataframe thead th {\n",
       "        text-align: right;\n",
       "    }\n",
       "</style>\n",
       "<table border=\"1\" class=\"dataframe\">\n",
       "  <thead>\n",
       "    <tr style=\"text-align: right;\">\n",
       "      <th></th>\n",
       "      <th>userId</th>\n",
       "      <th>productId</th>\n",
       "      <th>Rating</th>\n",
       "      <th>timestamp</th>\n",
       "    </tr>\n",
       "  </thead>\n",
       "  <tbody>\n",
       "    <tr>\n",
       "      <th>7824452</th>\n",
       "      <td>A3AENU8Y9HLRAQ</td>\n",
       "      <td>B00LMOH8DU</td>\n",
       "      <td>5.0</td>\n",
       "      <td>1405209600</td>\n",
       "    </tr>\n",
       "    <tr>\n",
       "      <th>7824453</th>\n",
       "      <td>ABX8TXRB2GSKO</td>\n",
       "      <td>B00LMOH8DU</td>\n",
       "      <td>5.0</td>\n",
       "      <td>1405468800</td>\n",
       "    </tr>\n",
       "    <tr>\n",
       "      <th>7824454</th>\n",
       "      <td>A1QUWXCBPGCQMW</td>\n",
       "      <td>B00LMOH8DU</td>\n",
       "      <td>5.0</td>\n",
       "      <td>1405728000</td>\n",
       "    </tr>\n",
       "    <tr>\n",
       "      <th>7824455</th>\n",
       "      <td>A37B1XSZUYNSNK</td>\n",
       "      <td>B00LMOH8DU</td>\n",
       "      <td>5.0</td>\n",
       "      <td>1405036800</td>\n",
       "    </tr>\n",
       "    <tr>\n",
       "      <th>7824456</th>\n",
       "      <td>A3FOXB6244Y5PC</td>\n",
       "      <td>B00LNUH5X6</td>\n",
       "      <td>5.0</td>\n",
       "      <td>1404864000</td>\n",
       "    </tr>\n",
       "    <tr>\n",
       "      <th>7824457</th>\n",
       "      <td>AELQMX8YAEEYI</td>\n",
       "      <td>B00LOLBBQQ</td>\n",
       "      <td>5.0</td>\n",
       "      <td>1405382400</td>\n",
       "    </tr>\n",
       "    <tr>\n",
       "      <th>7824458</th>\n",
       "      <td>AG1NNE1V43RWC</td>\n",
       "      <td>B00LOLBBQQ</td>\n",
       "      <td>1.0</td>\n",
       "      <td>1405468800</td>\n",
       "    </tr>\n",
       "    <tr>\n",
       "      <th>7824459</th>\n",
       "      <td>A2QW4HHHC6XWH4</td>\n",
       "      <td>B00LPQRT34</td>\n",
       "      <td>4.0</td>\n",
       "      <td>1405209600</td>\n",
       "    </tr>\n",
       "    <tr>\n",
       "      <th>7824460</th>\n",
       "      <td>A2025SOZT6OE6D</td>\n",
       "      <td>B00LS5WBYE</td>\n",
       "      <td>5.0</td>\n",
       "      <td>1405641600</td>\n",
       "    </tr>\n",
       "    <tr>\n",
       "      <th>7824461</th>\n",
       "      <td>A2DOJYSPCLCQIT</td>\n",
       "      <td>B00LTAUTHE</td>\n",
       "      <td>5.0</td>\n",
       "      <td>1405382400</td>\n",
       "    </tr>\n",
       "    <tr>\n",
       "      <th>7824462</th>\n",
       "      <td>A1PB6OT0OOPKNQ</td>\n",
       "      <td>B00LXEC8CU</td>\n",
       "      <td>5.0</td>\n",
       "      <td>1405641600</td>\n",
       "    </tr>\n",
       "    <tr>\n",
       "      <th>7824463</th>\n",
       "      <td>A1MTPZKAYVSES3</td>\n",
       "      <td>BT008G3W52</td>\n",
       "      <td>5.0</td>\n",
       "      <td>1355702400</td>\n",
       "    </tr>\n",
       "    <tr>\n",
       "      <th>7824464</th>\n",
       "      <td>AS7WVL4JGN1FI</td>\n",
       "      <td>BT008SXQ4C</td>\n",
       "      <td>1.0</td>\n",
       "      <td>1326067200</td>\n",
       "    </tr>\n",
       "    <tr>\n",
       "      <th>7824465</th>\n",
       "      <td>A3GGII8ILEUI4P</td>\n",
       "      <td>BT008T2BGK</td>\n",
       "      <td>5.0</td>\n",
       "      <td>1320883200</td>\n",
       "    </tr>\n",
       "    <tr>\n",
       "      <th>7824466</th>\n",
       "      <td>ATK4Q037EM13F</td>\n",
       "      <td>BT008UKTMW</td>\n",
       "      <td>4.0</td>\n",
       "      <td>1356134400</td>\n",
       "    </tr>\n",
       "    <tr>\n",
       "      <th>7824467</th>\n",
       "      <td>AT10LK8R9MLHT</td>\n",
       "      <td>BT008UKTMW</td>\n",
       "      <td>3.0</td>\n",
       "      <td>1293753600</td>\n",
       "    </tr>\n",
       "    <tr>\n",
       "      <th>7824468</th>\n",
       "      <td>AKVMJCP7T93X1</td>\n",
       "      <td>BT008UKTMW</td>\n",
       "      <td>5.0</td>\n",
       "      <td>1394928000</td>\n",
       "    </tr>\n",
       "    <tr>\n",
       "      <th>7824469</th>\n",
       "      <td>A2H4BLBXDNSZ2O</td>\n",
       "      <td>BT008UKTMW</td>\n",
       "      <td>4.0</td>\n",
       "      <td>1316563200</td>\n",
       "    </tr>\n",
       "    <tr>\n",
       "      <th>7824470</th>\n",
       "      <td>A2DARIL2TWUOLS</td>\n",
       "      <td>BT008UKTMW</td>\n",
       "      <td>2.0</td>\n",
       "      <td>1373328000</td>\n",
       "    </tr>\n",
       "    <tr>\n",
       "      <th>7824471</th>\n",
       "      <td>A7ETK9SC1HAMP</td>\n",
       "      <td>BT008UKTMW</td>\n",
       "      <td>5.0</td>\n",
       "      <td>1397088000</td>\n",
       "    </tr>\n",
       "    <tr>\n",
       "      <th>7824472</th>\n",
       "      <td>A5FUA9HEV2O42</td>\n",
       "      <td>BT008UKTMW</td>\n",
       "      <td>5.0</td>\n",
       "      <td>1405987200</td>\n",
       "    </tr>\n",
       "    <tr>\n",
       "      <th>7824473</th>\n",
       "      <td>A84WRQR47OOKR</td>\n",
       "      <td>BT008UKTMW</td>\n",
       "      <td>1.0</td>\n",
       "      <td>1401753600</td>\n",
       "    </tr>\n",
       "    <tr>\n",
       "      <th>7824474</th>\n",
       "      <td>A180UGKKYCPDH0</td>\n",
       "      <td>BT008UKTMW</td>\n",
       "      <td>5.0</td>\n",
       "      <td>1369353600</td>\n",
       "    </tr>\n",
       "    <tr>\n",
       "      <th>7824475</th>\n",
       "      <td>A2R6Q6KJCYSVH7</td>\n",
       "      <td>BT008UKTMW</td>\n",
       "      <td>3.0</td>\n",
       "      <td>1343520000</td>\n",
       "    </tr>\n",
       "    <tr>\n",
       "      <th>7824476</th>\n",
       "      <td>A2IGIIABRZ5LAB</td>\n",
       "      <td>BT008UKTMW</td>\n",
       "      <td>5.0</td>\n",
       "      <td>1356739200</td>\n",
       "    </tr>\n",
       "    <tr>\n",
       "      <th>7824477</th>\n",
       "      <td>A2YZI3C9MOHC0L</td>\n",
       "      <td>BT008UKTMW</td>\n",
       "      <td>5.0</td>\n",
       "      <td>1396569600</td>\n",
       "    </tr>\n",
       "    <tr>\n",
       "      <th>7824478</th>\n",
       "      <td>A322MDK0M89RHN</td>\n",
       "      <td>BT008UKTMW</td>\n",
       "      <td>5.0</td>\n",
       "      <td>1313366400</td>\n",
       "    </tr>\n",
       "    <tr>\n",
       "      <th>7824479</th>\n",
       "      <td>A1MH90R0ADMIK0</td>\n",
       "      <td>BT008UKTMW</td>\n",
       "      <td>4.0</td>\n",
       "      <td>1404172800</td>\n",
       "    </tr>\n",
       "    <tr>\n",
       "      <th>7824480</th>\n",
       "      <td>A10M2KEFPEQDHN</td>\n",
       "      <td>BT008UKTMW</td>\n",
       "      <td>4.0</td>\n",
       "      <td>1297555200</td>\n",
       "    </tr>\n",
       "    <tr>\n",
       "      <th>7824481</th>\n",
       "      <td>A2G81TMIOIDEQQ</td>\n",
       "      <td>BT008V9J9U</td>\n",
       "      <td>5.0</td>\n",
       "      <td>1312675200</td>\n",
       "    </tr>\n",
       "  </tbody>\n",
       "</table>\n",
       "</div>"
      ],
      "text/plain": [
       "                 userId   productId  Rating   timestamp\n",
       "7824452  A3AENU8Y9HLRAQ  B00LMOH8DU     5.0  1405209600\n",
       "7824453   ABX8TXRB2GSKO  B00LMOH8DU     5.0  1405468800\n",
       "7824454  A1QUWXCBPGCQMW  B00LMOH8DU     5.0  1405728000\n",
       "7824455  A37B1XSZUYNSNK  B00LMOH8DU     5.0  1405036800\n",
       "7824456  A3FOXB6244Y5PC  B00LNUH5X6     5.0  1404864000\n",
       "7824457   AELQMX8YAEEYI  B00LOLBBQQ     5.0  1405382400\n",
       "7824458   AG1NNE1V43RWC  B00LOLBBQQ     1.0  1405468800\n",
       "7824459  A2QW4HHHC6XWH4  B00LPQRT34     4.0  1405209600\n",
       "7824460  A2025SOZT6OE6D  B00LS5WBYE     5.0  1405641600\n",
       "7824461  A2DOJYSPCLCQIT  B00LTAUTHE     5.0  1405382400\n",
       "7824462  A1PB6OT0OOPKNQ  B00LXEC8CU     5.0  1405641600\n",
       "7824463  A1MTPZKAYVSES3  BT008G3W52     5.0  1355702400\n",
       "7824464   AS7WVL4JGN1FI  BT008SXQ4C     1.0  1326067200\n",
       "7824465  A3GGII8ILEUI4P  BT008T2BGK     5.0  1320883200\n",
       "7824466   ATK4Q037EM13F  BT008UKTMW     4.0  1356134400\n",
       "7824467   AT10LK8R9MLHT  BT008UKTMW     3.0  1293753600\n",
       "7824468   AKVMJCP7T93X1  BT008UKTMW     5.0  1394928000\n",
       "7824469  A2H4BLBXDNSZ2O  BT008UKTMW     4.0  1316563200\n",
       "7824470  A2DARIL2TWUOLS  BT008UKTMW     2.0  1373328000\n",
       "7824471   A7ETK9SC1HAMP  BT008UKTMW     5.0  1397088000\n",
       "7824472   A5FUA9HEV2O42  BT008UKTMW     5.0  1405987200\n",
       "7824473   A84WRQR47OOKR  BT008UKTMW     1.0  1401753600\n",
       "7824474  A180UGKKYCPDH0  BT008UKTMW     5.0  1369353600\n",
       "7824475  A2R6Q6KJCYSVH7  BT008UKTMW     3.0  1343520000\n",
       "7824476  A2IGIIABRZ5LAB  BT008UKTMW     5.0  1356739200\n",
       "7824477  A2YZI3C9MOHC0L  BT008UKTMW     5.0  1396569600\n",
       "7824478  A322MDK0M89RHN  BT008UKTMW     5.0  1313366400\n",
       "7824479  A1MH90R0ADMIK0  BT008UKTMW     4.0  1404172800\n",
       "7824480  A10M2KEFPEQDHN  BT008UKTMW     4.0  1297555200\n",
       "7824481  A2G81TMIOIDEQQ  BT008V9J9U     5.0  1312675200"
      ]
     },
     "execution_count": 6,
     "metadata": {
      "tags": []
     },
     "output_type": "execute_result"
    }
   ],
   "source": [
    "df.tail(30)"
   ]
  },
  {
   "cell_type": "code",
   "execution_count": 7,
   "metadata": {
    "colab": {
     "base_uri": "https://localhost:8080/",
     "height": 34
    },
    "colab_type": "code",
    "id": "4whyCHMGVmN2",
    "outputId": "e2b6498e-4494-4d28-ad0b-30619c3a9cdd"
   },
   "outputs": [
    {
     "data": {
      "text/plain": [
       "(7824482, 4)"
      ]
     },
     "execution_count": 7,
     "metadata": {
      "tags": []
     },
     "output_type": "execute_result"
    }
   ],
   "source": [
    "df.shape"
   ]
  },
  {
   "cell_type": "code",
   "execution_count": 8,
   "metadata": {
    "colab": {
     "base_uri": "https://localhost:8080/",
     "height": 168
    },
    "colab_type": "code",
    "id": "STJW6vCyVn8y",
    "outputId": "25c31be6-6cfd-490f-c840-09af432aac74"
   },
   "outputs": [
    {
     "name": "stdout",
     "output_type": "stream",
     "text": [
      "<class 'pandas.core.frame.DataFrame'>\n",
      "RangeIndex: 7824482 entries, 0 to 7824481\n",
      "Data columns (total 4 columns):\n",
      "userId       object\n",
      "productId    object\n",
      "Rating       float64\n",
      "timestamp    int64\n",
      "dtypes: float64(1), int64(1), object(2)\n",
      "memory usage: 238.8+ MB\n"
     ]
    }
   ],
   "source": [
    "df.info()"
   ]
  },
  {
   "cell_type": "code",
   "execution_count": 9,
   "metadata": {
    "colab": {
     "base_uri": "https://localhost:8080/",
     "height": 284
    },
    "colab_type": "code",
    "id": "-2j0g-ozVpnx",
    "outputId": "97d5bc9f-77f6-4a96-9126-cedb8fa3809d"
   },
   "outputs": [
    {
     "data": {
      "text/html": [
       "<div>\n",
       "<style scoped>\n",
       "    .dataframe tbody tr th:only-of-type {\n",
       "        vertical-align: middle;\n",
       "    }\n",
       "\n",
       "    .dataframe tbody tr th {\n",
       "        vertical-align: top;\n",
       "    }\n",
       "\n",
       "    .dataframe thead th {\n",
       "        text-align: right;\n",
       "    }\n",
       "</style>\n",
       "<table border=\"1\" class=\"dataframe\">\n",
       "  <thead>\n",
       "    <tr style=\"text-align: right;\">\n",
       "      <th></th>\n",
       "      <th>Rating</th>\n",
       "      <th>timestamp</th>\n",
       "    </tr>\n",
       "  </thead>\n",
       "  <tbody>\n",
       "    <tr>\n",
       "      <th>count</th>\n",
       "      <td>7.824482e+06</td>\n",
       "      <td>7.824482e+06</td>\n",
       "    </tr>\n",
       "    <tr>\n",
       "      <th>mean</th>\n",
       "      <td>4.012337e+00</td>\n",
       "      <td>1.338178e+09</td>\n",
       "    </tr>\n",
       "    <tr>\n",
       "      <th>std</th>\n",
       "      <td>1.380910e+00</td>\n",
       "      <td>6.900426e+07</td>\n",
       "    </tr>\n",
       "    <tr>\n",
       "      <th>min</th>\n",
       "      <td>1.000000e+00</td>\n",
       "      <td>9.127296e+08</td>\n",
       "    </tr>\n",
       "    <tr>\n",
       "      <th>25%</th>\n",
       "      <td>3.000000e+00</td>\n",
       "      <td>1.315354e+09</td>\n",
       "    </tr>\n",
       "    <tr>\n",
       "      <th>50%</th>\n",
       "      <td>5.000000e+00</td>\n",
       "      <td>1.361059e+09</td>\n",
       "    </tr>\n",
       "    <tr>\n",
       "      <th>75%</th>\n",
       "      <td>5.000000e+00</td>\n",
       "      <td>1.386115e+09</td>\n",
       "    </tr>\n",
       "    <tr>\n",
       "      <th>max</th>\n",
       "      <td>5.000000e+00</td>\n",
       "      <td>1.406074e+09</td>\n",
       "    </tr>\n",
       "  </tbody>\n",
       "</table>\n",
       "</div>"
      ],
      "text/plain": [
       "             Rating     timestamp\n",
       "count  7.824482e+06  7.824482e+06\n",
       "mean   4.012337e+00  1.338178e+09\n",
       "std    1.380910e+00  6.900426e+07\n",
       "min    1.000000e+00  9.127296e+08\n",
       "25%    3.000000e+00  1.315354e+09\n",
       "50%    5.000000e+00  1.361059e+09\n",
       "75%    5.000000e+00  1.386115e+09\n",
       "max    5.000000e+00  1.406074e+09"
      ]
     },
     "execution_count": 9,
     "metadata": {
      "tags": []
     },
     "output_type": "execute_result"
    }
   ],
   "source": [
    "df.describe()"
   ]
  },
  {
   "cell_type": "code",
   "execution_count": 10,
   "metadata": {
    "colab": {
     "base_uri": "https://localhost:8080/",
     "height": 34
    },
    "colab_type": "code",
    "id": "QD5udUOZVrT_",
    "outputId": "d411dda2-1987-4902-d12c-430c18694d36"
   },
   "outputs": [
    {
     "data": {
      "text/plain": [
       "False"
      ]
     },
     "execution_count": 10,
     "metadata": {
      "tags": []
     },
     "output_type": "execute_result"
    }
   ],
   "source": [
    "df.isnull().values.any()"
   ]
  },
  {
   "cell_type": "code",
   "execution_count": 11,
   "metadata": {
    "colab": {
     "base_uri": "https://localhost:8080/",
     "height": 892
    },
    "colab_type": "code",
    "id": "N9ZN3UpFVsx7",
    "outputId": "c38c555f-2a08-4181-fb35-ba6651f3293e"
   },
   "outputs": [
    {
     "data": {
      "image/png": "[encoded data removed]",
      "text/plain": [
       "<Figure size 1440x1080 with 2 Axes>"
      ]
     },
     "metadata": {
      "tags": []
     },
     "output_type": "display_data"
    }
   ],
   "source": [
    "df.hist(figsize=(20, 15))\n",
    "plt.show()"
   ]
  },
  {
   "cell_type": "code",
   "execution_count": 12,
   "metadata": {
    "colab": {
     "base_uri": "https://localhost:8080/",
     "height": 269
    },
    "colab_type": "code",
    "id": "TjdDS2tlVuO4",
    "outputId": "62cf1d8e-5144-44b3-94c7-e65675babc43"
   },
   "outputs": [
    {
     "data": {
      "text/plain": [
       "<matplotlib.axes._subplots.AxesSubplot at 0x7f59bf3831d0>"
      ]
     },
     "execution_count": 12,
     "metadata": {
      "tags": []
     },
     "output_type": "execute_result"
    },
    {
     "data": {
      "image/png": "[encoded data removed]",
      "text/plain": [
       "<Figure size 432x288 with 1 Axes>"
      ]
     },
     "metadata": {
      "tags": []
     },
     "output_type": "display_data"
    }
   ],
   "source": [
    "sns.boxplot(y='Rating',data=df)"
   ]
  },
  {
   "cell_type": "code",
   "execution_count": 13,
   "metadata": {
    "colab": {
     "base_uri": "https://localhost:8080/",
     "height": 280
    },
    "colab_type": "code",
    "id": "EJ539DFEVyXA",
    "outputId": "c263daea-d489-4fe8-f0e9-b1728f7f36bb"
   },
   "outputs": [
    {
     "data": {
      "text/plain": [
       "<matplotlib.axes._subplots.AxesSubplot at 0x7f59a048c908>"
      ]
     },
     "execution_count": 13,
     "metadata": {
      "tags": []
     },
     "output_type": "execute_result"
    },
    {
     "data": {
      "image/png": "[encoded data removed]",
      "text/plain": [
       "<Figure size 432x288 with 1 Axes>"
      ]
     },
     "metadata": {
      "tags": []
     },
     "output_type": "display_data"
    }
   ],
   "source": [
    "sns.boxplot(y='timestamp',data=df)"
   ]
  },
  {
   "cell_type": "markdown",
   "metadata": {
    "colab_type": "text",
    "id": "yJDCsiluFpoz"
   },
   "source": [
    "**Take subset of data by filtering for users who have given more than 50 users to avoid working with large dataset**"
   ]
  },
  {
   "cell_type": "code",
   "execution_count": 14,
   "metadata": {
    "colab": {
     "base_uri": "https://localhost:8080/",
     "height": 935
    },
    "colab_type": "code",
    "id": "yHbPIqJHWm-z",
    "outputId": "d03ce0d7-83a0-4819-c8b6-591de6471a84"
   },
   "outputs": [
    {
     "data": {
      "text/html": [
       "<div>\n",
       "<style scoped>\n",
       "    .dataframe tbody tr th:only-of-type {\n",
       "        vertical-align: middle;\n",
       "    }\n",
       "\n",
       "    .dataframe tbody tr th {\n",
       "        vertical-align: top;\n",
       "    }\n",
       "\n",
       "    .dataframe thead th {\n",
       "        text-align: right;\n",
       "    }\n",
       "</style>\n",
       "<table border=\"1\" class=\"dataframe\">\n",
       "  <thead>\n",
       "    <tr style=\"text-align: right;\">\n",
       "      <th></th>\n",
       "      <th>userId</th>\n",
       "      <th>productId</th>\n",
       "      <th>Rating</th>\n",
       "      <th>timestamp</th>\n",
       "    </tr>\n",
       "  </thead>\n",
       "  <tbody>\n",
       "    <tr>\n",
       "      <th>94</th>\n",
       "      <td>A3BY5KCNQZXV5U</td>\n",
       "      <td>0594451647</td>\n",
       "      <td>5.0</td>\n",
       "      <td>1390176000</td>\n",
       "    </tr>\n",
       "    <tr>\n",
       "      <th>118</th>\n",
       "      <td>AT09WGFUM934H</td>\n",
       "      <td>0594481813</td>\n",
       "      <td>3.0</td>\n",
       "      <td>1377907200</td>\n",
       "    </tr>\n",
       "    <tr>\n",
       "      <th>177</th>\n",
       "      <td>A32HSNCNPRUMTR</td>\n",
       "      <td>0970407998</td>\n",
       "      <td>1.0</td>\n",
       "      <td>1319673600</td>\n",
       "    </tr>\n",
       "    <tr>\n",
       "      <th>178</th>\n",
       "      <td>A17HMM1M7T9PJ1</td>\n",
       "      <td>0970407998</td>\n",
       "      <td>4.0</td>\n",
       "      <td>1281744000</td>\n",
       "    </tr>\n",
       "    <tr>\n",
       "      <th>492</th>\n",
       "      <td>A3CLWR1UUZT6TG</td>\n",
       "      <td>0972683275</td>\n",
       "      <td>5.0</td>\n",
       "      <td>1373587200</td>\n",
       "    </tr>\n",
       "    <tr>\n",
       "      <th>631</th>\n",
       "      <td>A3TAS1AG6FMBQW</td>\n",
       "      <td>0972683275</td>\n",
       "      <td>5.0</td>\n",
       "      <td>1353456000</td>\n",
       "    </tr>\n",
       "    <tr>\n",
       "      <th>1003</th>\n",
       "      <td>A2Y4H3PXB07WQI</td>\n",
       "      <td>0972683275</td>\n",
       "      <td>4.0</td>\n",
       "      <td>1292457600</td>\n",
       "    </tr>\n",
       "    <tr>\n",
       "      <th>1138</th>\n",
       "      <td>A25RTRAPQAJBDJ</td>\n",
       "      <td>0972683275</td>\n",
       "      <td>5.0</td>\n",
       "      <td>1329523200</td>\n",
       "    </tr>\n",
       "    <tr>\n",
       "      <th>1310</th>\n",
       "      <td>A3LDPF5FMB782Z</td>\n",
       "      <td>1400501466</td>\n",
       "      <td>5.0</td>\n",
       "      <td>1336003200</td>\n",
       "    </tr>\n",
       "    <tr>\n",
       "      <th>1322</th>\n",
       "      <td>A1A5KUIIIHFF4U</td>\n",
       "      <td>1400501466</td>\n",
       "      <td>1.0</td>\n",
       "      <td>1332547200</td>\n",
       "    </tr>\n",
       "    <tr>\n",
       "      <th>1335</th>\n",
       "      <td>A2XIOXRRYX0KZY</td>\n",
       "      <td>1400501466</td>\n",
       "      <td>3.0</td>\n",
       "      <td>1371686400</td>\n",
       "    </tr>\n",
       "    <tr>\n",
       "      <th>1451</th>\n",
       "      <td>AW3LX47IHPFRL</td>\n",
       "      <td>1400501466</td>\n",
       "      <td>5.0</td>\n",
       "      <td>1339804800</td>\n",
       "    </tr>\n",
       "    <tr>\n",
       "      <th>1456</th>\n",
       "      <td>A1E3OB6QMBKRYZ</td>\n",
       "      <td>1400501466</td>\n",
       "      <td>1.0</td>\n",
       "      <td>1350086400</td>\n",
       "    </tr>\n",
       "    <tr>\n",
       "      <th>1485</th>\n",
       "      <td>A19N3S7CBSU6O7</td>\n",
       "      <td>1400501466</td>\n",
       "      <td>5.0</td>\n",
       "      <td>1322697600</td>\n",
       "    </tr>\n",
       "    <tr>\n",
       "      <th>1588</th>\n",
       "      <td>A3LDPF5FMB782Z</td>\n",
       "      <td>1400501520</td>\n",
       "      <td>5.0</td>\n",
       "      <td>1362873600</td>\n",
       "    </tr>\n",
       "    <tr>\n",
       "      <th>1696</th>\n",
       "      <td>A3LDPF5FMB782Z</td>\n",
       "      <td>1400501776</td>\n",
       "      <td>5.0</td>\n",
       "      <td>1334102400</td>\n",
       "    </tr>\n",
       "    <tr>\n",
       "      <th>1777</th>\n",
       "      <td>A18S2VGUH9SCV5</td>\n",
       "      <td>1400501776</td>\n",
       "      <td>4.0</td>\n",
       "      <td>1340755200</td>\n",
       "    </tr>\n",
       "    <tr>\n",
       "      <th>1987</th>\n",
       "      <td>A1K4G5YJDJQI6Q</td>\n",
       "      <td>1400532620</td>\n",
       "      <td>1.0</td>\n",
       "      <td>1306713600</td>\n",
       "    </tr>\n",
       "    <tr>\n",
       "      <th>1990</th>\n",
       "      <td>A1PPS91NLI7KEH</td>\n",
       "      <td>1400532620</td>\n",
       "      <td>5.0</td>\n",
       "      <td>1279843200</td>\n",
       "    </tr>\n",
       "    <tr>\n",
       "      <th>2082</th>\n",
       "      <td>A2ZR3YTMEEIIZ4</td>\n",
       "      <td>1400532655</td>\n",
       "      <td>5.0</td>\n",
       "      <td>1300233600</td>\n",
       "    </tr>\n",
       "    <tr>\n",
       "      <th>2150</th>\n",
       "      <td>A3CLWR1UUZT6TG</td>\n",
       "      <td>1400532655</td>\n",
       "      <td>5.0</td>\n",
       "      <td>1291420800</td>\n",
       "    </tr>\n",
       "    <tr>\n",
       "      <th>2162</th>\n",
       "      <td>A5JLAU2ARJ0BO</td>\n",
       "      <td>1400532655</td>\n",
       "      <td>1.0</td>\n",
       "      <td>1291334400</td>\n",
       "    </tr>\n",
       "    <tr>\n",
       "      <th>2228</th>\n",
       "      <td>A1P4XD7IORSEFN</td>\n",
       "      <td>1400532655</td>\n",
       "      <td>4.0</td>\n",
       "      <td>1324166400</td>\n",
       "    </tr>\n",
       "    <tr>\n",
       "      <th>2363</th>\n",
       "      <td>A341HCMGNZCBIT</td>\n",
       "      <td>1400532655</td>\n",
       "      <td>5.0</td>\n",
       "      <td>1302048000</td>\n",
       "    </tr>\n",
       "    <tr>\n",
       "      <th>2437</th>\n",
       "      <td>A3HPCRD9RX351S</td>\n",
       "      <td>1400532655</td>\n",
       "      <td>3.0</td>\n",
       "      <td>1332028800</td>\n",
       "    </tr>\n",
       "    <tr>\n",
       "      <th>2502</th>\n",
       "      <td>A3LDPF5FMB782Z</td>\n",
       "      <td>140053271X</td>\n",
       "      <td>4.0</td>\n",
       "      <td>1310515200</td>\n",
       "    </tr>\n",
       "    <tr>\n",
       "      <th>2741</th>\n",
       "      <td>A20UU20K7M9ZPF</td>\n",
       "      <td>140053271X</td>\n",
       "      <td>1.0</td>\n",
       "      <td>1330732800</td>\n",
       "    </tr>\n",
       "    <tr>\n",
       "      <th>3007</th>\n",
       "      <td>A1DQHS7MOVYYYA</td>\n",
       "      <td>1400599997</td>\n",
       "      <td>5.0</td>\n",
       "      <td>1279584000</td>\n",
       "    </tr>\n",
       "    <tr>\n",
       "      <th>3050</th>\n",
       "      <td>ALUNVOQRXOZIA</td>\n",
       "      <td>1400599997</td>\n",
       "      <td>1.0</td>\n",
       "      <td>1271548800</td>\n",
       "    </tr>\n",
       "    <tr>\n",
       "      <th>3178</th>\n",
       "      <td>A19N3S7CBSU6O7</td>\n",
       "      <td>1400599997</td>\n",
       "      <td>5.0</td>\n",
       "      <td>1262044800</td>\n",
       "    </tr>\n",
       "  </tbody>\n",
       "</table>\n",
       "</div>"
      ],
      "text/plain": [
       "              userId   productId  Rating   timestamp\n",
       "94    A3BY5KCNQZXV5U  0594451647     5.0  1390176000\n",
       "118    AT09WGFUM934H  0594481813     3.0  1377907200\n",
       "177   A32HSNCNPRUMTR  0970407998     1.0  1319673600\n",
       "178   A17HMM1M7T9PJ1  0970407998     4.0  1281744000\n",
       "492   A3CLWR1UUZT6TG  0972683275     5.0  1373587200\n",
       "631   A3TAS1AG6FMBQW  0972683275     5.0  1353456000\n",
       "1003  A2Y4H3PXB07WQI  0972683275     4.0  1292457600\n",
       "1138  A25RTRAPQAJBDJ  0972683275     5.0  1329523200\n",
       "1310  A3LDPF5FMB782Z  1400501466     5.0  1336003200\n",
       "1322  A1A5KUIIIHFF4U  1400501466     1.0  1332547200\n",
       "1335  A2XIOXRRYX0KZY  1400501466     3.0  1371686400\n",
       "1451   AW3LX47IHPFRL  1400501466     5.0  1339804800\n",
       "1456  A1E3OB6QMBKRYZ  1400501466     1.0  1350086400\n",
       "1485  A19N3S7CBSU6O7  1400501466     5.0  1322697600\n",
       "1588  A3LDPF5FMB782Z  1400501520     5.0  1362873600\n",
       "1696  A3LDPF5FMB782Z  1400501776     5.0  1334102400\n",
       "1777  A18S2VGUH9SCV5  1400501776     4.0  1340755200\n",
       "1987  A1K4G5YJDJQI6Q  1400532620     1.0  1306713600\n",
       "1990  A1PPS91NLI7KEH  1400532620     5.0  1279843200\n",
       "2082  A2ZR3YTMEEIIZ4  1400532655     5.0  1300233600\n",
       "2150  A3CLWR1UUZT6TG  1400532655     5.0  1291420800\n",
       "2162   A5JLAU2ARJ0BO  1400532655     1.0  1291334400\n",
       "2228  A1P4XD7IORSEFN  1400532655     4.0  1324166400\n",
       "2363  A341HCMGNZCBIT  1400532655     5.0  1302048000\n",
       "2437  A3HPCRD9RX351S  1400532655     3.0  1332028800\n",
       "2502  A3LDPF5FMB782Z  140053271X     4.0  1310515200\n",
       "2741  A20UU20K7M9ZPF  140053271X     1.0  1330732800\n",
       "3007  A1DQHS7MOVYYYA  1400599997     5.0  1279584000\n",
       "3050   ALUNVOQRXOZIA  1400599997     1.0  1271548800\n",
       "3178  A19N3S7CBSU6O7  1400599997     5.0  1262044800"
      ]
     },
     "execution_count": 14,
     "metadata": {
      "tags": []
     },
     "output_type": "execute_result"
    }
   ],
   "source": [
    "counts=df['userId'].value_counts()\n",
    "df1=df[df['userId'].isin(counts[counts>=50].index)]\n",
    "df1.head(30)"
   ]
  },
  {
   "cell_type": "code",
   "execution_count": 15,
   "metadata": {
    "colab": {
     "base_uri": "https://localhost:8080/",
     "height": 34
    },
    "colab_type": "code",
    "id": "VjnyHXyZWpNV",
    "outputId": "497e4326-9db0-46eb-f3c2-d0feefa7c8b6"
   },
   "outputs": [
    {
     "data": {
      "text/plain": [
       "(125871, 4)"
      ]
     },
     "execution_count": 15,
     "metadata": {
      "tags": []
     },
     "output_type": "execute_result"
    }
   ],
   "source": [
    "df1.shape"
   ]
  },
  {
   "cell_type": "markdown",
   "metadata": {
    "colab_type": "text",
    "id": "hf8iqEwBF4vn"
   },
   "source": [
    "# **Popularity based filtering based on Product's ratings**"
   ]
  },
  {
   "cell_type": "code",
   "execution_count": 16,
   "metadata": {
    "colab": {
     "base_uri": "https://localhost:8080/",
     "height": 225
    },
    "colab_type": "code",
    "id": "s8YE_Ls2Wsg0",
    "outputId": "354804a8-9e35-4b2c-d8f7-0b0c7c975637"
   },
   "outputs": [
    {
     "data": {
      "text/html": [
       "<div>\n",
       "<style scoped>\n",
       "    .dataframe tbody tr th:only-of-type {\n",
       "        vertical-align: middle;\n",
       "    }\n",
       "\n",
       "    .dataframe tbody tr th {\n",
       "        vertical-align: top;\n",
       "    }\n",
       "\n",
       "    .dataframe thead th {\n",
       "        text-align: right;\n",
       "    }\n",
       "</style>\n",
       "<table border=\"1\" class=\"dataframe\">\n",
       "  <thead>\n",
       "    <tr style=\"text-align: right;\">\n",
       "      <th></th>\n",
       "      <th>Rating</th>\n",
       "      <th>product_rating_counts</th>\n",
       "    </tr>\n",
       "    <tr>\n",
       "      <th>productId</th>\n",
       "      <th></th>\n",
       "      <th></th>\n",
       "    </tr>\n",
       "  </thead>\n",
       "  <tbody>\n",
       "    <tr>\n",
       "      <th>0594451647</th>\n",
       "      <td>5.000000</td>\n",
       "      <td>1</td>\n",
       "    </tr>\n",
       "    <tr>\n",
       "      <th>0594481813</th>\n",
       "      <td>3.000000</td>\n",
       "      <td>1</td>\n",
       "    </tr>\n",
       "    <tr>\n",
       "      <th>0970407998</th>\n",
       "      <td>2.500000</td>\n",
       "      <td>2</td>\n",
       "    </tr>\n",
       "    <tr>\n",
       "      <th>0972683275</th>\n",
       "      <td>4.750000</td>\n",
       "      <td>4</td>\n",
       "    </tr>\n",
       "    <tr>\n",
       "      <th>1400501466</th>\n",
       "      <td>3.333333</td>\n",
       "      <td>6</td>\n",
       "    </tr>\n",
       "  </tbody>\n",
       "</table>\n",
       "</div>"
      ],
      "text/plain": [
       "              Rating  product_rating_counts\n",
       "productId                                  \n",
       "0594451647  5.000000                      1\n",
       "0594481813  3.000000                      1\n",
       "0970407998  2.500000                      2\n",
       "0972683275  4.750000                      4\n",
       "1400501466  3.333333                      6"
      ]
     },
     "execution_count": 16,
     "metadata": {
      "tags": []
     },
     "output_type": "execute_result"
    }
   ],
   "source": [
    "products_df = pd.DataFrame(df1.groupby('productId')['Rating'].mean())\n",
    "products_df['product_rating_counts'] = pd.DataFrame(df1.groupby('productId')['Rating'].count())\n",
    "products_df.head()"
   ]
  },
  {
   "cell_type": "code",
   "execution_count": 17,
   "metadata": {
    "colab": {
     "base_uri": "https://localhost:8080/",
     "height": 225
    },
    "colab_type": "code",
    "id": "r_3mcoyTYUnp",
    "outputId": "4b85335f-1f33-4210-bab3-d1df600540dc"
   },
   "outputs": [
    {
     "data": {
      "text/html": [
       "<div>\n",
       "<style scoped>\n",
       "    .dataframe tbody tr th:only-of-type {\n",
       "        vertical-align: middle;\n",
       "    }\n",
       "\n",
       "    .dataframe tbody tr th {\n",
       "        vertical-align: top;\n",
       "    }\n",
       "\n",
       "    .dataframe thead th {\n",
       "        text-align: right;\n",
       "    }\n",
       "</style>\n",
       "<table border=\"1\" class=\"dataframe\">\n",
       "  <thead>\n",
       "    <tr style=\"text-align: right;\">\n",
       "      <th></th>\n",
       "      <th>Rating</th>\n",
       "      <th>product_rating_counts</th>\n",
       "    </tr>\n",
       "    <tr>\n",
       "      <th>productId</th>\n",
       "      <th></th>\n",
       "      <th></th>\n",
       "    </tr>\n",
       "  </thead>\n",
       "  <tbody>\n",
       "    <tr>\n",
       "      <th>0594451647</th>\n",
       "      <td>5.0</td>\n",
       "      <td>1</td>\n",
       "    </tr>\n",
       "    <tr>\n",
       "      <th>B003RRY9RS</th>\n",
       "      <td>5.0</td>\n",
       "      <td>1</td>\n",
       "    </tr>\n",
       "    <tr>\n",
       "      <th>B003RR95Q8</th>\n",
       "      <td>5.0</td>\n",
       "      <td>1</td>\n",
       "    </tr>\n",
       "    <tr>\n",
       "      <th>B003RIPMZU</th>\n",
       "      <td>5.0</td>\n",
       "      <td>1</td>\n",
       "    </tr>\n",
       "    <tr>\n",
       "      <th>B003RFRNYQ</th>\n",
       "      <td>5.0</td>\n",
       "      <td>2</td>\n",
       "    </tr>\n",
       "  </tbody>\n",
       "</table>\n",
       "</div>"
      ],
      "text/plain": [
       "            Rating  product_rating_counts\n",
       "productId                                \n",
       "0594451647     5.0                      1\n",
       "B003RRY9RS     5.0                      1\n",
       "B003RR95Q8     5.0                      1\n",
       "B003RIPMZU     5.0                      1\n",
       "B003RFRNYQ     5.0                      2"
      ]
     },
     "execution_count": 17,
     "metadata": {
      "tags": []
     },
     "output_type": "execute_result"
    }
   ],
   "source": [
    "products_df.sort_values('Rating', ascending=False).head()"
   ]
  },
  {
   "cell_type": "code",
   "execution_count": 18,
   "metadata": {
    "colab": {
     "base_uri": "https://localhost:8080/",
     "height": 225
    },
    "colab_type": "code",
    "id": "wAqvba1BXFkF",
    "outputId": "e4bb857d-1217-44cb-e440-7c34f2d5a4e4"
   },
   "outputs": [
    {
     "data": {
      "text/html": [
       "<div>\n",
       "<style scoped>\n",
       "    .dataframe tbody tr th:only-of-type {\n",
       "        vertical-align: middle;\n",
       "    }\n",
       "\n",
       "    .dataframe tbody tr th {\n",
       "        vertical-align: top;\n",
       "    }\n",
       "\n",
       "    .dataframe thead th {\n",
       "        text-align: right;\n",
       "    }\n",
       "</style>\n",
       "<table border=\"1\" class=\"dataframe\">\n",
       "  <thead>\n",
       "    <tr style=\"text-align: right;\">\n",
       "      <th></th>\n",
       "      <th>Rating</th>\n",
       "      <th>product_rating_counts</th>\n",
       "    </tr>\n",
       "    <tr>\n",
       "      <th>productId</th>\n",
       "      <th></th>\n",
       "      <th></th>\n",
       "    </tr>\n",
       "  </thead>\n",
       "  <tbody>\n",
       "    <tr>\n",
       "      <th>B0088CJT4U</th>\n",
       "      <td>4.218447</td>\n",
       "      <td>206</td>\n",
       "    </tr>\n",
       "    <tr>\n",
       "      <th>B003ES5ZUU</th>\n",
       "      <td>4.864130</td>\n",
       "      <td>184</td>\n",
       "    </tr>\n",
       "    <tr>\n",
       "      <th>B000N99BBC</th>\n",
       "      <td>4.772455</td>\n",
       "      <td>167</td>\n",
       "    </tr>\n",
       "    <tr>\n",
       "      <th>B007WTAJTO</th>\n",
       "      <td>4.701220</td>\n",
       "      <td>164</td>\n",
       "    </tr>\n",
       "    <tr>\n",
       "      <th>B00829TIEK</th>\n",
       "      <td>4.436242</td>\n",
       "      <td>149</td>\n",
       "    </tr>\n",
       "  </tbody>\n",
       "</table>\n",
       "</div>"
      ],
      "text/plain": [
       "              Rating  product_rating_counts\n",
       "productId                                  \n",
       "B0088CJT4U  4.218447                    206\n",
       "B003ES5ZUU  4.864130                    184\n",
       "B000N99BBC  4.772455                    167\n",
       "B007WTAJTO  4.701220                    164\n",
       "B00829TIEK  4.436242                    149"
      ]
     },
     "execution_count": 18,
     "metadata": {
      "tags": []
     },
     "output_type": "execute_result"
    }
   ],
   "source": [
    "products_df.sort_values('product_rating_counts', ascending=False).head()"
   ]
  },
  {
   "cell_type": "markdown",
   "metadata": {
    "colab_type": "text",
    "id": "Avv3zwrWGIE6"
   },
   "source": [
    "# **Popularity based filtering based on User's ratings**"
   ]
  },
  {
   "cell_type": "code",
   "execution_count": 19,
   "metadata": {
    "colab": {
     "base_uri": "https://localhost:8080/",
     "height": 225
    },
    "colab_type": "code",
    "id": "CT8-Eem_Z4ea",
    "outputId": "098d96da-e4c5-4b0c-8da5-d997f970d1be"
   },
   "outputs": [
    {
     "data": {
      "text/html": [
       "<div>\n",
       "<style scoped>\n",
       "    .dataframe tbody tr th:only-of-type {\n",
       "        vertical-align: middle;\n",
       "    }\n",
       "\n",
       "    .dataframe tbody tr th {\n",
       "        vertical-align: top;\n",
       "    }\n",
       "\n",
       "    .dataframe thead th {\n",
       "        text-align: right;\n",
       "    }\n",
       "</style>\n",
       "<table border=\"1\" class=\"dataframe\">\n",
       "  <thead>\n",
       "    <tr style=\"text-align: right;\">\n",
       "      <th></th>\n",
       "      <th>Rating</th>\n",
       "      <th>user_rating_counts</th>\n",
       "    </tr>\n",
       "    <tr>\n",
       "      <th>userId</th>\n",
       "      <th></th>\n",
       "      <th></th>\n",
       "    </tr>\n",
       "  </thead>\n",
       "  <tbody>\n",
       "    <tr>\n",
       "      <th>A100UD67AHFODS</th>\n",
       "      <td>4.508621</td>\n",
       "      <td>116</td>\n",
       "    </tr>\n",
       "    <tr>\n",
       "      <th>A100WO06OQR8BQ</th>\n",
       "      <td>3.651515</td>\n",
       "      <td>132</td>\n",
       "    </tr>\n",
       "    <tr>\n",
       "      <th>A105S56ODHGJEK</th>\n",
       "      <td>3.838235</td>\n",
       "      <td>68</td>\n",
       "    </tr>\n",
       "    <tr>\n",
       "      <th>A105TOJ6LTVMBG</th>\n",
       "      <td>3.845070</td>\n",
       "      <td>71</td>\n",
       "    </tr>\n",
       "    <tr>\n",
       "      <th>A10AFVU66A79Y1</th>\n",
       "      <td>4.184615</td>\n",
       "      <td>65</td>\n",
       "    </tr>\n",
       "  </tbody>\n",
       "</table>\n",
       "</div>"
      ],
      "text/plain": [
       "                  Rating  user_rating_counts\n",
       "userId                                      \n",
       "A100UD67AHFODS  4.508621                 116\n",
       "A100WO06OQR8BQ  3.651515                 132\n",
       "A105S56ODHGJEK  3.838235                  68\n",
       "A105TOJ6LTVMBG  3.845070                  71\n",
       "A10AFVU66A79Y1  4.184615                  65"
      ]
     },
     "execution_count": 19,
     "metadata": {
      "tags": []
     },
     "output_type": "execute_result"
    }
   ],
   "source": [
    "users_df = pd.DataFrame(df1.groupby('userId')['Rating'].mean())\n",
    "users_df['user_rating_counts'] = pd.DataFrame(df1.groupby('userId')['Rating'].count())\n",
    "users_df.head()"
   ]
  },
  {
   "cell_type": "code",
   "execution_count": 20,
   "metadata": {
    "colab": {
     "base_uri": "https://localhost:8080/",
     "height": 225
    },
    "colab_type": "code",
    "id": "2YH4CN_I47Y5",
    "outputId": "5abed3f8-b556-43cf-c265-29ff3f1b5ddb"
   },
   "outputs": [
    {
     "data": {
      "text/html": [
       "<div>\n",
       "<style scoped>\n",
       "    .dataframe tbody tr th:only-of-type {\n",
       "        vertical-align: middle;\n",
       "    }\n",
       "\n",
       "    .dataframe tbody tr th {\n",
       "        vertical-align: top;\n",
       "    }\n",
       "\n",
       "    .dataframe thead th {\n",
       "        text-align: right;\n",
       "    }\n",
       "</style>\n",
       "<table border=\"1\" class=\"dataframe\">\n",
       "  <thead>\n",
       "    <tr style=\"text-align: right;\">\n",
       "      <th></th>\n",
       "      <th>Rating</th>\n",
       "      <th>user_rating_counts</th>\n",
       "    </tr>\n",
       "    <tr>\n",
       "      <th>userId</th>\n",
       "      <th></th>\n",
       "      <th></th>\n",
       "    </tr>\n",
       "  </thead>\n",
       "  <tbody>\n",
       "    <tr>\n",
       "      <th>A23WPWLYT3P1CZ</th>\n",
       "      <td>5.0</td>\n",
       "      <td>57</td>\n",
       "    </tr>\n",
       "    <tr>\n",
       "      <th>A2DKQQIZ793AV5</th>\n",
       "      <td>5.0</td>\n",
       "      <td>75</td>\n",
       "    </tr>\n",
       "    <tr>\n",
       "      <th>A2J4XMWKR8PPD0</th>\n",
       "      <td>5.0</td>\n",
       "      <td>58</td>\n",
       "    </tr>\n",
       "    <tr>\n",
       "      <th>A2PB325LKXYDOL</th>\n",
       "      <td>5.0</td>\n",
       "      <td>63</td>\n",
       "    </tr>\n",
       "    <tr>\n",
       "      <th>A2TN0U8173HM7A</th>\n",
       "      <td>5.0</td>\n",
       "      <td>66</td>\n",
       "    </tr>\n",
       "  </tbody>\n",
       "</table>\n",
       "</div>"
      ],
      "text/plain": [
       "                Rating  user_rating_counts\n",
       "userId                                    \n",
       "A23WPWLYT3P1CZ     5.0                  57\n",
       "A2DKQQIZ793AV5     5.0                  75\n",
       "A2J4XMWKR8PPD0     5.0                  58\n",
       "A2PB325LKXYDOL     5.0                  63\n",
       "A2TN0U8173HM7A     5.0                  66"
      ]
     },
     "execution_count": 20,
     "metadata": {
      "tags": []
     },
     "output_type": "execute_result"
    }
   ],
   "source": [
    "users_df.sort_values('Rating', ascending=False).head()"
   ]
  },
  {
   "cell_type": "code",
   "execution_count": 21,
   "metadata": {
    "colab": {
     "base_uri": "https://localhost:8080/",
     "height": 225
    },
    "colab_type": "code",
    "id": "HKYzg98t46iP",
    "outputId": "9b361e6d-c174-4584-dfc7-3ae2fc25bd06"
   },
   "outputs": [
    {
     "data": {
      "text/html": [
       "<div>\n",
       "<style scoped>\n",
       "    .dataframe tbody tr th:only-of-type {\n",
       "        vertical-align: middle;\n",
       "    }\n",
       "\n",
       "    .dataframe tbody tr th {\n",
       "        vertical-align: top;\n",
       "    }\n",
       "\n",
       "    .dataframe thead th {\n",
       "        text-align: right;\n",
       "    }\n",
       "</style>\n",
       "<table border=\"1\" class=\"dataframe\">\n",
       "  <thead>\n",
       "    <tr style=\"text-align: right;\">\n",
       "      <th></th>\n",
       "      <th>Rating</th>\n",
       "      <th>user_rating_counts</th>\n",
       "    </tr>\n",
       "    <tr>\n",
       "      <th>userId</th>\n",
       "      <th></th>\n",
       "      <th></th>\n",
       "    </tr>\n",
       "  </thead>\n",
       "  <tbody>\n",
       "    <tr>\n",
       "      <th>A5JLAU2ARJ0BO</th>\n",
       "      <td>3.861538</td>\n",
       "      <td>520</td>\n",
       "    </tr>\n",
       "    <tr>\n",
       "      <th>ADLVFFE4VBT8</th>\n",
       "      <td>4.283433</td>\n",
       "      <td>501</td>\n",
       "    </tr>\n",
       "    <tr>\n",
       "      <th>A3OXHLG6DIBRW8</th>\n",
       "      <td>4.451807</td>\n",
       "      <td>498</td>\n",
       "    </tr>\n",
       "    <tr>\n",
       "      <th>A6FIAB28IS79</th>\n",
       "      <td>4.183295</td>\n",
       "      <td>431</td>\n",
       "    </tr>\n",
       "    <tr>\n",
       "      <th>A680RUE1FDO8B</th>\n",
       "      <td>4.406404</td>\n",
       "      <td>406</td>\n",
       "    </tr>\n",
       "  </tbody>\n",
       "</table>\n",
       "</div>"
      ],
      "text/plain": [
       "                  Rating  user_rating_counts\n",
       "userId                                      \n",
       "A5JLAU2ARJ0BO   3.861538                 520\n",
       "ADLVFFE4VBT8    4.283433                 501\n",
       "A3OXHLG6DIBRW8  4.451807                 498\n",
       "A6FIAB28IS79    4.183295                 431\n",
       "A680RUE1FDO8B   4.406404                 406"
      ]
     },
     "execution_count": 21,
     "metadata": {
      "tags": []
     },
     "output_type": "execute_result"
    }
   ],
   "source": [
    "users_df.sort_values('user_rating_counts', ascending=False).head()"
   ]
  },
  {
   "cell_type": "markdown",
   "metadata": {
    "colab_type": "text",
    "id": "nWbekVA2GR18"
   },
   "source": [
    "# **Collaborative based filtering and get the scores for different models**"
   ]
  },
  {
   "cell_type": "code",
   "execution_count": 22,
   "metadata": {
    "colab": {
     "base_uri": "https://localhost:8080/",
     "height": 336
    },
    "colab_type": "code",
    "id": "5hJ3fXlhYpsh",
    "outputId": "42037cb7-0e6c-4354-9892-c107fbca4c5a"
   },
   "outputs": [
    {
     "name": "stdout",
     "output_type": "stream",
     "text": [
      "Evaluating RMSE, MAE of algorithm SVD on 5 split(s).\n",
      "\n",
      "                  Fold 1  Fold 2  Fold 3  Fold 4  Fold 5  Mean    Std     \n",
      "RMSE (testset)    0.9842  0.9897  0.9850  0.9721  0.9858  0.9834  0.0059  \n",
      "MAE (testset)     0.7265  0.7303  0.7289  0.7222  0.7285  0.7273  0.0028  \n",
      "Fit time          6.32    6.30    6.29    6.32    6.26    6.30    0.02    \n",
      "Test time         0.21    0.29    0.29    0.29    0.21    0.26    0.04    \n"
     ]
    },
    {
     "data": {
      "text/plain": [
       "{'fit_time': (6.320570230484009,\n",
       "  6.300092458724976,\n",
       "  6.292995452880859,\n",
       "  6.3234639167785645,\n",
       "  6.258005619049072),\n",
       " 'test_mae': array([0.7265179 , 0.73031273, 0.72889027, 0.72216649, 0.72847171]),\n",
       " 'test_rmse': array([0.98422141, 0.98974344, 0.98498668, 0.97209063, 0.98575215]),\n",
       " 'test_time': (0.21454262733459473,\n",
       "  0.2912914752960205,\n",
       "  0.292050838470459,\n",
       "  0.29150867462158203,\n",
       "  0.2101912498474121)}"
      ]
     },
     "execution_count": 22,
     "metadata": {
      "tags": []
     },
     "output_type": "execute_result"
    }
   ],
   "source": [
    "reader = Reader(rating_scale=(0.5,5))\n",
    "\n",
    "data = Dataset.load_from_df(df1[['userId', 'productId', 'Rating']], reader)\n",
    "\n",
    "# Use the famous SVD algorithm.\n",
    "svd = SVD()\n",
    "\n",
    "# Run 5-fold cross-validation and print results.\n",
    "\n",
    "cross_validate(svd, data, measures=['RMSE', 'MAE'], cv=5, verbose=True)"
   ]
  },
  {
   "cell_type": "code",
   "execution_count": 23,
   "metadata": {
    "colab": {
     "base_uri": "https://localhost:8080/",
     "height": 67
    },
    "colab_type": "code",
    "id": "lKEooXM4ZZee",
    "outputId": "2c244c12-abd1-44da-f2e1-16630978b655"
   },
   "outputs": [
    {
     "name": "stdout",
     "output_type": "stream",
     "text": [
      "RMSE: 0.9851\n",
      "MAE:  0.7308\n"
     ]
    },
    {
     "data": {
      "text/plain": [
       "0.7307667331193174"
      ]
     },
     "execution_count": 23,
     "metadata": {
      "tags": []
     },
     "output_type": "execute_result"
    }
   ],
   "source": [
    "# Split the data into 70% / 30%\n",
    "trainset, testset = train_test_split(data, test_size=.30)\n",
    "\n",
    "# Run SVD algorithm\n",
    "svd=SVD()\n",
    "\n",
    "#Build the model\n",
    "svd.fit(trainset)\n",
    "predictions=svd.test(testset)\n",
    "\n",
    "# Compute errors\n",
    "\n",
    "accuracy.rmse(predictions)\n",
    "accuracy.mae(predictions)"
   ]
  },
  {
   "cell_type": "code",
   "execution_count": 24,
   "metadata": {
    "colab": {
     "base_uri": "https://localhost:8080/",
     "height": 34
    },
    "colab_type": "code",
    "id": "5b9Cr-G4614r",
    "outputId": "0c3471ee-6887-4420-8f3b-36fc851c5bae"
   },
   "outputs": [
    {
     "name": "stdout",
     "output_type": "stream",
     "text": [
      "user: 150        item: 10000      r_ui = 4.00   est = 4.26   {'was_impossible': False}\n"
     ]
    }
   ],
   "source": [
    "#Define userid and productid in the string format as required\n",
    "\n",
    "uid=str(150)\n",
    "pid=str(10000)\n",
    "\n",
    "# Get predictions\n",
    "\n",
    "pred=svd.predict(uid, pid, r_ui=4, verbose=True)"
   ]
  },
  {
   "cell_type": "code",
   "execution_count": 25,
   "metadata": {
    "colab": {
     "base_uri": "https://localhost:8080/",
     "height": 50
    },
    "colab_type": "code",
    "id": "mAIfrUxlCvUy",
    "outputId": "f1482fca-d2ee-4250-f2c1-1a6accd24852"
   },
   "outputs": [
    {
     "name": "stdout",
     "output_type": "stream",
     "text": [
      "{'rmse': 0.9890760019452024, 'mae': 0.7470791113063835}\n",
      "{'rmse': {'n_epochs': 10, 'lr_all': 0.005, 'reg_all': 0.4}, 'mae': {'n_epochs': 10, 'lr_all': 0.005, 'reg_all': 0.4}}\n"
     ]
    }
   ],
   "source": [
    "\n",
    "param_grid = {\n",
    "    \"n_epochs\": [5, 10],\n",
    "    \"lr_all\": [0.002, 0.005],\n",
    "    \"reg_all\": [0.4, 0.6]\n",
    "}\n",
    "gs = GridSearchCV(SVD, param_grid, measures=[\"rmse\", \"mae\"], cv=3)\n",
    "\n",
    "gs.fit(data)\n",
    "\n",
    "print(gs.best_score)\n",
    "print(gs.best_params)"
   ]
  },
  {
   "cell_type": "code",
   "execution_count": 26,
   "metadata": {
    "colab": {
     "base_uri": "https://localhost:8080/",
     "height": 958
    },
    "colab_type": "code",
    "id": "GjVH1HEA8oyC",
    "outputId": "1c8ba114-83dd-4436-b8e2-97dbdfe48920"
   },
   "outputs": [
    {
     "name": "stdout",
     "output_type": "stream",
     "text": [
      "Computing the msd similarity matrix...\n",
      "Done computing similarity matrix.\n",
      "Computing the msd similarity matrix...\n",
      "Done computing similarity matrix.\n",
      "Computing the msd similarity matrix...\n",
      "Done computing similarity matrix.\n",
      "Computing the msd similarity matrix...\n",
      "Done computing similarity matrix.\n",
      "Computing the msd similarity matrix...\n",
      "Done computing similarity matrix.\n",
      "Computing the msd similarity matrix...\n",
      "Done computing similarity matrix.\n",
      "Computing the msd similarity matrix...\n",
      "Done computing similarity matrix.\n",
      "Computing the msd similarity matrix...\n",
      "Done computing similarity matrix.\n",
      "Computing the msd similarity matrix...\n",
      "Done computing similarity matrix.\n",
      "Computing the msd similarity matrix...\n",
      "Done computing similarity matrix.\n",
      "Computing the msd similarity matrix...\n",
      "Done computing similarity matrix.\n",
      "Computing the msd similarity matrix...\n",
      "Done computing similarity matrix.\n",
      "Computing the msd similarity matrix...\n",
      "Done computing similarity matrix.\n",
      "Computing the msd similarity matrix...\n",
      "Done computing similarity matrix.\n",
      "Computing the msd similarity matrix...\n",
      "Done computing similarity matrix.\n",
      "Computing the msd similarity matrix...\n",
      "Done computing similarity matrix.\n",
      "Computing the msd similarity matrix...\n",
      "Done computing similarity matrix.\n",
      "Computing the msd similarity matrix...\n",
      "Done computing similarity matrix.\n",
      "Computing the msd similarity matrix...\n",
      "Done computing similarity matrix.\n",
      "Computing the msd similarity matrix...\n",
      "Done computing similarity matrix.\n",
      "Computing the msd similarity matrix...\n",
      "Done computing similarity matrix.\n",
      "Computing the msd similarity matrix...\n",
      "Done computing similarity matrix.\n",
      "Computing the msd similarity matrix...\n",
      "Done computing similarity matrix.\n",
      "Computing the msd similarity matrix...\n",
      "Done computing similarity matrix.\n",
      "Computing the msd similarity matrix...\n",
      "Done computing similarity matrix.\n",
      "Computing the msd similarity matrix...\n",
      "Done computing similarity matrix.\n",
      "Computing the msd similarity matrix...\n",
      "Done computing similarity matrix.\n",
      "{'rmse': 1.0527855030203785, 'mae': 0.7995881565020767}\n",
      "{'rmse': {'min_k': 4, 'k': 20}, 'mae': {'min_k': 2, 'k': 10}}\n"
     ]
    }
   ],
   "source": [
    "# GridSearch with KNNbasic\n",
    "\n",
    "param_grid = {'min_k':[2,3,4], 'k':[5,10,20] }\n",
    "gs = GridSearchCV(KNNBasic, param_grid, measures=[\"rmse\", \"mae\"], cv=3)\n",
    "\n",
    "gs.fit(data)\n",
    "\n",
    "print(gs.best_score)\n",
    "print(gs.best_params)\n"
   ]
  },
  {
   "cell_type": "code",
   "execution_count": 0,
   "metadata": {
    "colab": {},
    "colab_type": "code",
    "id": "14QDlbAPIrJU"
   },
   "outputs": [],
   "source": []
  },
  {
   "cell_type": "code",
   "execution_count": 0,
   "metadata": {
    "colab": {},
    "colab_type": "code",
    "id": "OKd8VzppJCPG"
   },
   "outputs": [],
   "source": []
  }
 ],
 "metadata": {
  "accelerator": "GPU",
  "colab": {
   "collapsed_sections": [],
   "machine_shape": "hm",
   "name": "Kavitha_Assignment7_RS.ipynb",
   "provenance": []
  },
  "kernelspec": {
   "display_name": "Python 3",
   "language": "python",
   "name": "python3"
  },
  "language_info": {
   "codemirror_mode": {
    "name": "ipython",
    "version": 3
   },
   "file_extension": ".py",
   "mimetype": "text/x-python",
   "name": "python",
   "nbconvert_exporter": "python",
   "pygments_lexer": "ipython3",
   "version": "3.7.3"
  }
 },
 "nbformat": 4,
 "nbformat_minor": 1
}
